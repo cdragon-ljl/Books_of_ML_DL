{
 "cells": [
  {
   "cell_type": "code",
   "execution_count": 1,
   "metadata": {},
   "outputs": [
    {
     "name": "stdout",
     "output_type": "stream",
     "text": [
      "[3.14 2.17 0.   1.   2.  ]\n",
      "<class 'numpy.ndarray'>\n"
     ]
    }
   ],
   "source": [
    "import numpy as np\n",
    "list1 = [3.14, 2.17, 0, 1, 2]\n",
    "nd1 = np.array(list1)\n",
    "print(nd1)\n",
    "print(type(nd1))"
   ]
  },
  {
   "cell_type": "code",
   "execution_count": 2,
   "metadata": {},
   "outputs": [
    {
     "name": "stdout",
     "output_type": "stream",
     "text": [
      "[[3.14 2.17 0.   1.   2.  ]\n",
      " [1.   2.   3.   4.   5.  ]]\n",
      "<class 'numpy.ndarray'>\n"
     ]
    }
   ],
   "source": [
    "import numpy as np\n",
    "list2 = [[3.14, 2.17, 0, 1, 2], [1, 2, 3, 4, 5]]\n",
    "nd2 = np.array(list2)\n",
    "print(nd2)\n",
    "print(type(nd2))"
   ]
  },
  {
   "cell_type": "code",
   "execution_count": 3,
   "metadata": {},
   "outputs": [
    {
     "name": "stdout",
     "output_type": "stream",
     "text": [
      "[[0.77284096 0.58126235 0.89996499]\n",
      " [0.37052975 0.20651262 0.31865204]\n",
      " [0.36542842 0.70181133 0.18882855]]\n",
      "<class 'numpy.ndarray'>\n"
     ]
    }
   ],
   "source": [
    "import numpy as np\n",
    "\n",
    "nd5 = np.random.random([3, 3])\n",
    "print(nd5)\n",
    "print(type(nd5))"
   ]
  },
  {
   "cell_type": "code",
   "execution_count": 7,
   "metadata": {},
   "outputs": [
    {
     "name": "stdout",
     "output_type": "stream",
     "text": [
      "[[-1.0856306   0.99734545  0.2829785 ]\n",
      " [-1.50629471 -0.57860025  1.65143654]]\n",
      "随机打乱后数据\n",
      "[[-1.50629471 -0.57860025  1.65143654]\n",
      " [-1.0856306   0.99734545  0.2829785 ]]\n",
      "<class 'numpy.ndarray'>\n"
     ]
    }
   ],
   "source": [
    "import numpy as np\n",
    "\n",
    "np.random.seed(123)\n",
    "nd5_1 = np.random.randn(2, 3)\n",
    "print(nd5_1)\n",
    "np.random.shuffle(nd5_1)\n",
    "print(\"随机打乱后数据\")\n",
    "print(nd5_1)\n",
    "print(type(nd5_1))"
   ]
  },
  {
   "cell_type": "code",
   "execution_count": 9,
   "metadata": {},
   "outputs": [
    {
     "name": "stdout",
     "output_type": "stream",
     "text": [
      "[[0. 0. 0.]\n",
      " [0. 0. 0.]\n",
      " [0. 0. 0.]]\n",
      "[[1. 1. 1.]\n",
      " [1. 1. 1.]\n",
      " [1. 1. 1.]]\n",
      "[[1. 0. 0.]\n",
      " [0. 1. 0.]\n",
      " [0. 0. 1.]]\n",
      "[[1 0 0]\n",
      " [0 2 0]\n",
      " [0 0 3]]\n"
     ]
    }
   ],
   "source": [
    "import numpy as np\n",
    "\n",
    "#生成全是0的3*3矩阵\n",
    "nd6 = np.zeros([3, 3])\n",
    "print(nd6)\n",
    "#生成全是1的3*3矩阵\n",
    "nd7 = np.ones([3, 3])\n",
    "print(nd7)\n",
    "#生成3阶的单位矩阵\n",
    "nd8 = np.eye(3)\n",
    "print(nd8)\n",
    "#生成3阶对角矩阵\n",
    "print(np.diag([1, 2, 3]))"
   ]
  },
  {
   "cell_type": "code",
   "execution_count": 11,
   "metadata": {},
   "outputs": [
    {
     "name": "stdout",
     "output_type": "stream",
     "text": [
      "[[0.02798196 0.17390652 0.15408224 0.07708648 0.8898657 ]\n",
      " [0.7503787  0.69340324 0.51176338 0.46426806 0.56843069]\n",
      " [0.30254945 0.49730879 0.68326291 0.91669867 0.10892895]\n",
      " [0.49549179 0.23283593 0.43686066 0.75154299 0.48089213]\n",
      " [0.79772841 0.28270293 0.43341824 0.00975735 0.34079598]]\n"
     ]
    }
   ],
   "source": [
    "import numpy as np\n",
    "nd9 = np.random.random([5, 5])\n",
    "np.savetxt(X = nd9, fname = './test2.txt')\n",
    "nd10 = np.loadtxt('./test2.txt')\n",
    "print(nd10)"
   ]
  },
  {
   "cell_type": "code",
   "execution_count": 12,
   "metadata": {},
   "outputs": [
    {
     "name": "stdout",
     "output_type": "stream",
     "text": [
      "[0 1 2 3 4 5 6 7 8 9]\n",
      "[0 1 2 3 4 5 6 7 8 9]\n",
      "[1.  1.5 2.  2.5 3.  3.5]\n",
      "[9 8 7 6 5 4 3 2 1 0]\n"
     ]
    }
   ],
   "source": [
    "import numpy as np\n",
    "\n",
    "print(np.arange(10))\n",
    "print(np.arange(0, 10))\n",
    "print(np.arange(1, 4, 0.5))\n",
    "print(np.arange(9, -1, -1))"
   ]
  },
  {
   "cell_type": "code",
   "execution_count": 16,
   "metadata": {},
   "outputs": [
    {
     "name": "stdout",
     "output_type": "stream",
     "text": [
      "[0.88234931 0.10432774 0.90700933 0.3063989  0.44640887 0.58998539\n",
      " 0.8371111  0.69780061 0.80280284 0.10721508]\n",
      "0.3063988986063515\n",
      "[0.3063989  0.44640887 0.58998539]\n",
      "[0.10432774 0.3063989  0.58998539]\n",
      "[0.10721508 0.69780061 0.58998539 0.3063989  0.10432774]\n",
      "[[ 0  1  2  3  4]\n",
      " [ 5  6  7  8  9]\n",
      " [10 11 12 13 14]\n",
      " [15 16 17 18 19]\n",
      " [20 21 22 23 24]]\n",
      "[[ 6  7]\n",
      " [11 12]]\n",
      "[4 5 6 7 8 9]\n",
      "[[ 5  6  7  8  9]\n",
      " [10 11 12 13 14]]\n",
      "[[ 1  2]\n",
      " [ 6  7]\n",
      " [11 12]\n",
      " [16 17]\n",
      " [21 22]]\n"
     ]
    }
   ],
   "source": [
    "import numpy as np\n",
    "\n",
    "np.random.seed(2018)\n",
    "nd11 = np.random.random([10])\n",
    "print(nd11)\n",
    "#获取指定位置的数据，获取第4个元素\n",
    "print(nd11[3])\n",
    "#截取一段数据\n",
    "print(nd11[3:6])\n",
    "#截取固定间隔数据\n",
    "print(nd11[1:6:2])\n",
    "#倒序取数\n",
    "print(nd11[::-2])\n",
    "#截取一个多维数组的一个区域内数据\n",
    "nd12 = np.arange(25).reshape([5, 5])\n",
    "print(nd12)\n",
    "print(nd12[1:3, 1:3])\n",
    "#截取一个多维数组中，数值在一个值域之内的数据\n",
    "print(nd12[(nd12>3)&(nd12<10)])\n",
    "#截取多维数组中，指定的行，如读取第2,3行\n",
    "print(nd12[[1,2]])\n",
    "#截取多维数组中，指定的列，如读取第2,3列\n",
    "print(nd12[:, 1:3])"
   ]
  },
  {
   "cell_type": "code",
   "execution_count": 17,
   "metadata": {},
   "outputs": [
    {
     "name": "stdout",
     "output_type": "stream",
     "text": [
      "随机可重复抽取\n",
      "[[18.  1.  7. 14.]\n",
      " [22. 23. 24.  1.]\n",
      " [24.  9.  8. 10.]]\n",
      "随机但不重复抽取\n",
      "[[ 3. 20.  4. 10.]\n",
      " [13. 22.  5. 17.]\n",
      " [ 8. 15. 24.  2.]]\n",
      "随机但按指定概率抽取\n",
      "[[20.  5. 12. 18.]\n",
      " [18. 15.  7. 14.]\n",
      " [23. 21. 24. 18.]]\n"
     ]
    }
   ],
   "source": [
    "import numpy as np\n",
    "from numpy import random as nr\n",
    "\n",
    "a = np.arange(1, 25, dtype = float)\n",
    "c1 = nr.choice(a, size = (3, 4))\n",
    "c2 = nr.choice(a, size = (3, 4), replace=False)\n",
    "#下式中参数p指定每个元素对应的抽取概率，默认为每个元素被抽取的概率相同\n",
    "c3 = nr.choice(a, size = (3, 4), p = a / np.sum(a))\n",
    "print(\"随机可重复抽取\")\n",
    "print(c1)\n",
    "print(\"随机但不重复抽取\")\n",
    "print(c2)\n",
    "print(\"随机但按指定概率抽取\")\n",
    "print(c3)"
   ]
  },
  {
   "cell_type": "code",
   "execution_count": 21,
   "metadata": {},
   "outputs": [
    {
     "name": "stdout",
     "output_type": "stream",
     "text": [
      "[[0 1 2]\n",
      " [3 4 5]\n",
      " [6 7 8]]\n",
      "[[0 3 6]\n",
      " [1 4 7]\n",
      " [2 5 8]]\n",
      "[[ 0  1  2  3]\n",
      " [ 4  5  6  7]\n",
      " [ 8  9 10 11]]\n",
      "[[0 1]\n",
      " [2 3]\n",
      " [4 5]\n",
      " [6 7]]\n",
      "[[ 28  34]\n",
      " [ 76  98]\n",
      " [124 162]]\n",
      "12\n",
      "0.0\n",
      "[[0.49004436 0.00303589 0.84366215]\n",
      " [0.54368872 0.13869147 0.08572875]\n",
      " [0.40161209 0.82697863 0.80616256]]\n",
      "[[ 0.11650638  1.97986434 -0.33246808]\n",
      " [-1.15011756  0.16012924  1.18658819]\n",
      " [ 1.12177409 -1.15058794  0.18884545]]\n"
     ]
    }
   ],
   "source": [
    "import numpy as np\n",
    "\n",
    "nd14 = np.arange(9).reshape([3,3])\n",
    "print(nd14)\n",
    "\n",
    "#矩阵转置\n",
    "print(np.transpose(nd14))\n",
    "\n",
    "#矩阵乘法\n",
    "a = np.arange(12).reshape([3, 4])\n",
    "print(a)\n",
    "b = np.arange(8).reshape([4, 2])\n",
    "print(b)\n",
    "print(a.dot(b))\n",
    "\n",
    "#求矩阵的迹\n",
    "print(nd14.trace())\n",
    "#计算矩阵行列式\n",
    "print(np.linalg.det(nd14))\n",
    "\n",
    "#计算逆矩阵\n",
    "c = np.random.random([3, 3])\n",
    "print(c)\n",
    "print(np.linalg.solve(c, np.eye(3)))"
   ]
  },
  {
   "cell_type": "code",
   "execution_count": 22,
   "metadata": {},
   "outputs": [
    {
     "name": "stdout",
     "output_type": "stream",
     "text": [
      "[1 2 3 4 5 6]\n",
      "[1 2 3 4 5 6]\n"
     ]
    }
   ],
   "source": [
    "import numpy as np\n",
    "\n",
    "a = np.array([1, 2, 3])\n",
    "b = np.array([4, 5, 6])\n",
    "c = np.append(a, b)\n",
    "print(c)\n",
    "d = np.concatenate([a, b])\n",
    "print(d)"
   ]
  },
  {
   "cell_type": "code",
   "execution_count": 23,
   "metadata": {},
   "outputs": [
    {
     "name": "stdout",
     "output_type": "stream",
     "text": [
      "[[0 1]\n",
      " [2 3]\n",
      " [0 1]\n",
      " [2 3]]\n",
      "合并后数据维度 (4, 2)\n",
      "[[0 1 0 1]\n",
      " [2 3 2 3]]\n",
      "合并后数据维度 (2, 4)\n"
     ]
    }
   ],
   "source": [
    "import numpy as np\n",
    "\n",
    "a = np.arange(4).reshape([2, 2])\n",
    "b = np.arange(4).reshape([2, 2])\n",
    "\n",
    "#按行合并\n",
    "c = np.append(a, b, axis=0)\n",
    "print(c)\n",
    "print(\"合并后数据维度\", c.shape)\n",
    "\n",
    "#按列合并\n",
    "d = np.append(a, b, axis=1)\n",
    "print(d)\n",
    "print(\"合并后数据维度\", d.shape)"
   ]
  },
  {
   "cell_type": "code",
   "execution_count": 24,
   "metadata": {},
   "outputs": [
    {
     "name": "stdout",
     "output_type": "stream",
     "text": [
      "[[0 1 2]\n",
      " [3 4 5]]\n",
      "按列优先,展平\n",
      "[0 3 1 4 2 5]\n",
      "按行优先,展平\n",
      "[0 1 2 3 4 5]\n"
     ]
    }
   ],
   "source": [
    "import numpy as np\n",
    "\n",
    "nd15 = np.arange(6).reshape(2, -1)\n",
    "print(nd15)\n",
    "#按照列优先，展平\n",
    "print(\"按列优先,展平\")\n",
    "print(nd15.ravel('F'))\n",
    "#按照行优先，展平\n",
    "print(\"按行优先,展平\")\n",
    "print(nd15.ravel())\n"
   ]
  },
  {
   "cell_type": "code",
   "execution_count": 27,
   "metadata": {
    "scrolled": true
   },
   "outputs": [
    {
     "name": "stderr",
     "output_type": "stream",
     "text": [
      "C:\\ProgramData\\Anaconda3\\lib\\site-packages\\ipykernel_launcher.py:6: DeprecationWarning: time.clock has been deprecated in Python 3.3 and will be removed from Python 3.8: use time.perf_counter or time.process_time instead\n",
      "  \n",
      "C:\\ProgramData\\Anaconda3\\lib\\site-packages\\ipykernel_launcher.py:9: DeprecationWarning: time.clock has been deprecated in Python 3.3 and will be removed from Python 3.8: use time.perf_counter or time.process_time instead\n",
      "  if __name__ == '__main__':\n"
     ]
    },
    {
     "name": "stdout",
     "output_type": "stream",
     "text": [
      "math.sin: 0.4730549999985669\n",
      "numpy.sin: 0.018625799999426818\n"
     ]
    },
    {
     "name": "stderr",
     "output_type": "stream",
     "text": [
      "C:\\ProgramData\\Anaconda3\\lib\\site-packages\\ipykernel_launcher.py:13: DeprecationWarning: time.clock has been deprecated in Python 3.3 and will be removed from Python 3.8: use time.perf_counter or time.process_time instead\n",
      "  del sys.path[0]\n",
      "C:\\ProgramData\\Anaconda3\\lib\\site-packages\\ipykernel_launcher.py:15: DeprecationWarning: time.clock has been deprecated in Python 3.3 and will be removed from Python 3.8: use time.perf_counter or time.process_time instead\n",
      "  from ipykernel import kernelapp as app\n"
     ]
    }
   ],
   "source": [
    "import time\n",
    "import math\n",
    "import numpy as np\n",
    "\n",
    "x = [i * 0.001 for i in np.arange(1000000)]\n",
    "start = time.clock()\n",
    "for i, t in enumerate(x):\n",
    "    x[i] = math.sin(t)\n",
    "print(\"math.sin:\", time.clock() - start)\n",
    "\n",
    "x = [i * 0.001 for i in np.arange(1000000)]\n",
    "x = np.array(x)\n",
    "start = time.clock()\n",
    "np.sin(x)\n",
    "print(\"numpy.sin:\", time.clock() - start)"
   ]
  },
  {
   "cell_type": "code",
   "execution_count": 28,
   "metadata": {},
   "outputs": [
    {
     "name": "stdout",
     "output_type": "stream",
     "text": [
      "dot = 249695.95496750838\n",
      " for loop----- Computation time = 812.5ms\n",
      "dot = 249695.95496750379\n",
      " verctor version----- Computation time = 0.0ms\n"
     ]
    }
   ],
   "source": [
    "import time\n",
    "import numpy as np\n",
    "\n",
    "x1 = np.random.rand(1000000)\n",
    "x2 = np.random.rand(1000000)\n",
    "\n",
    "##使用循环计算向量点积\n",
    "tic = time.process_time()\n",
    "dot = 0\n",
    "for i in range(len(x1)):\n",
    "    dot += x1[i] * x2[i]\n",
    "toc = time.process_time()    \n",
    "print(\"dot = \" + str(dot) + \"\\n for loop----- Computation time = \" + str(1000*(toc - tic)) + \"ms\")\n",
    "\n",
    "##使用numpy函数求点积\n",
    "tic = time.process_time()\n",
    "dot = 0\n",
    "dot = np.dot(x1, x2)\n",
    "toc = time.process_time()    \n",
    "print(\"dot = \" + str(dot) + \"\\n verctor version----- Computation time = \" + str(1000*(toc - tic)) + \"ms\")"
   ]
  },
  {
   "cell_type": "code",
   "execution_count": 29,
   "metadata": {},
   "outputs": [
    {
     "name": "stdout",
     "output_type": "stream",
     "text": [
      "[ 0  2  4  6  8 10 12 14 16 18]\n",
      "[ 3  4  5  6  7  8  9 10 11 12]\n",
      "[ 0  1  4  9 16 25 36 49 64 81]\n",
      "[[ 0  2]\n",
      " [ 2  4]\n",
      " [ 4  6]\n",
      " [ 6  8]\n",
      " [ 8 10]]\n"
     ]
    }
   ],
   "source": [
    "import numpy as np\n",
    "\n",
    "a = np.arange(10)\n",
    "b = np.arange(10)\n",
    "#两个shape相同的数组相加\n",
    "print(a + b)\n",
    "#一个数组与标量叠加\n",
    "print(a + 3)\n",
    "#两个向量相乘\n",
    "print(a * b)\n",
    "\n",
    "#多维数组之间的运算\n",
    "c = np.arange(10).reshape(5, 2)\n",
    "d = np.arange(2).reshape(1, 2)\n",
    "#将d数组进行复制扩充为【5,2】\n",
    "print(c + d)"
   ]
  },
  {
   "cell_type": "code",
   "execution_count": null,
   "metadata": {},
   "outputs": [],
   "source": []
  }
 ],
 "metadata": {
  "kernelspec": {
   "display_name": "Python 3",
   "language": "python",
   "name": "python3"
  },
  "language_info": {
   "codemirror_mode": {
    "name": "ipython",
    "version": 3
   },
   "file_extension": ".py",
   "mimetype": "text/x-python",
   "name": "python",
   "nbconvert_exporter": "python",
   "pygments_lexer": "ipython3",
   "version": "3.7.7"
  }
 },
 "nbformat": 4,
 "nbformat_minor": 4
}
