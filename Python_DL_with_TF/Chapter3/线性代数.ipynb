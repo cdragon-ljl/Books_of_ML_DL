{
 "cells": [
  {
   "cell_type": "code",
   "execution_count": 1,
   "metadata": {},
   "outputs": [
    {
     "name": "stdout",
     "output_type": "stream",
     "text": [
      "5\n",
      "1 2 4 8\n"
     ]
    }
   ],
   "source": [
    "import numpy as np\n",
    "\n",
    "a = np.array([1, 2, 4, 3, 8])\n",
    "print(a.size)\n",
    "print(a[0], a[1], a[2], a[-1])"
   ]
  },
  {
   "cell_type": "code",
   "execution_count": 2,
   "metadata": {},
   "outputs": [
    {
     "name": "stdout",
     "output_type": "stream",
     "text": [
      "[[1 2 3]\n",
      " [4 5 6]]\n",
      "6\n",
      "(2, 3)\n",
      "1 2 5\n",
      "[4 5 6]\n",
      "[2 5]\n"
     ]
    }
   ],
   "source": [
    "import numpy as np\n",
    "\n",
    "A = np.array([[1, 2, 3], [4, 5, 6]])\n",
    "print(A)\n",
    "print(A.size)\n",
    "print(A.shape)\n",
    "print(A[0,0], A[0,1], A[1,1])\n",
    "print(A[1,:])\n",
    "print(A[:,1])"
   ]
  },
  {
   "cell_type": "code",
   "execution_count": 3,
   "metadata": {},
   "outputs": [
    {
     "name": "stdout",
     "output_type": "stream",
     "text": [
      "[[[ 0  1  2  3]\n",
      "  [ 4  5  6  7]]\n",
      "\n",
      " [[ 8  9 10 11]\n",
      "  [12 13 14 15]]]\n",
      "16\n",
      "(2, 2, 4)\n",
      "0 1 5\n",
      "[4 5 6 7]\n"
     ]
    }
   ],
   "source": [
    "import numpy as np\n",
    "\n",
    "B = np.arange(16).reshape((2, 2, 4))\n",
    "print(B)\n",
    "print(B.size)\n",
    "print(B.shape)\n",
    "print(B[0,0,0], B[0,0,1], B[0,1,1])\n",
    "print(B[0,1,:])"
   ]
  },
  {
   "cell_type": "code",
   "execution_count": 4,
   "metadata": {},
   "outputs": [
    {
     "name": "stdout",
     "output_type": "stream",
     "text": [
      "[[1 2 3]\n",
      " [4 5 6]]\n",
      "[[1 4]\n",
      " [2 5]\n",
      " [3 6]]\n"
     ]
    }
   ],
   "source": [
    "import numpy as np\n",
    "\n",
    "C = np.array([[1,2,3], [4,5,6]])\n",
    "D = C.T\n",
    "print(C)\n",
    "print(D)"
   ]
  },
  {
   "cell_type": "code",
   "execution_count": 5,
   "metadata": {},
   "outputs": [
    {
     "name": "stdout",
     "output_type": "stream",
     "text": [
      "[[11 22 33]\n",
      " [14 25 36]]\n"
     ]
    }
   ],
   "source": [
    "import numpy as np\n",
    "\n",
    "C = np.array([[1,2,3], [4,5,6]])\n",
    "b = np.array([10,20,30])\n",
    "D = C + b\n",
    "print(D)"
   ]
  },
  {
   "cell_type": "code",
   "execution_count": 1,
   "metadata": {},
   "outputs": [
    {
     "name": "stdout",
     "output_type": "stream",
     "text": [
      "[0.  0.1 0.2 0.3 0.4 0.5 0.6 0.7 0.8 0.9]\n",
      "4.500000000000001\n",
      "1.6881943016134133\n",
      "0.9\n"
     ]
    }
   ],
   "source": [
    "#计算向量的范数\n",
    "\n",
    "import numpy as np\n",
    "import numpy.linalg as LA #导入Numpy中线性代数库\n",
    "\n",
    "x = np.arange(0,1,0.1)\n",
    "print(x)\n",
    "\n",
    "x1 = LA.norm(x, 1) #计算1范数\n",
    "x2 = LA.norm(x, 2) #计算2范数\n",
    "xa = LA.norm(x, np.inf) #计算无穷范数\n",
    "print(x1)\n",
    "print(x2)\n",
    "print(xa)"
   ]
  },
  {
   "cell_type": "code",
   "execution_count": 2,
   "metadata": {},
   "outputs": [
    {
     "name": "stdout",
     "output_type": "stream",
     "text": [
      "[-0.37228132  5.37228132]\n",
      "[-0.37228132  5.37228132]\n",
      "[[-0.82456484 -0.41597356]\n",
      " [ 0.56576746 -0.90937671]]\n"
     ]
    }
   ],
   "source": [
    "#特征值分解\n",
    "\n",
    "import numpy as np\n",
    "\n",
    "a = np.array([[1,2],[3,4]]) #示例矩阵\n",
    "A1 = np.linalg.eigvals(a) #得到特征值\n",
    "A2,V1 = np.linalg.eig(a) #其中A2也是特征值，V1为特征向量\n",
    "print(A1)\n",
    "print(A2)\n",
    "print(V1)\n",
    "\n",
    "#在numpy.linalg模块中：\n",
    "#eigvals()：计算矩阵的特征值\n",
    "#eig()：返回包含特征值和对应特征向量的元组"
   ]
  },
  {
   "cell_type": "code",
   "execution_count": 4,
   "metadata": {},
   "outputs": [
    {
     "name": "stdout",
     "output_type": "stream",
     "text": [
      "[1.09824632e+01 8.79229347e+00 1.03974857e+00 1.41050174e-15\n",
      " 1.80635171e-32]\n",
      "[[10.98246322  0.          0.        ]\n",
      " [ 0.          8.79229347  0.        ]\n",
      " [ 0.          0.          1.03974857]]\n"
     ]
    }
   ],
   "source": [
    "#SVD奇异值分解\n",
    "\n",
    "import numpy as np\n",
    "\n",
    "Data = np.mat([[1,1,1,0,0],\n",
    "               [2,2,2,0,0],\n",
    "               [3,3,3,0,0],\n",
    "               [5,5,3,2,2],\n",
    "               [0,0,0,3,3],\n",
    "               [0,0,0,6,6]])\n",
    "\n",
    "u,sigma,vt = np.linalg.svd(Data)\n",
    "print(sigma)\n",
    "#转换为对角矩阵\n",
    "diagv = np.mat([[sigma[0],0,0],[0,sigma[1],0],[0,0,sigma[2]]])\n",
    "print(diagv)"
   ]
  },
  {
   "cell_type": "code",
   "execution_count": 5,
   "metadata": {},
   "outputs": [
    {
     "name": "stdout",
     "output_type": "stream",
     "text": [
      "15\n",
      "15\n",
      "171\n",
      "171\n"
     ]
    }
   ],
   "source": [
    "#迹运算\n",
    "\n",
    "C = np.array([[1,2,3],[4,5,6],[7,8,9]])\n",
    "TrC = np.trace(C)\n",
    "\n",
    "D = C - 2\n",
    "TrCT = np.trace(C.T)\n",
    "TrCD = np.trace(np.dot(C,D))\n",
    "TrDC = np.trace(np.dot(D,C))\n",
    "print(TrC)\n",
    "print(TrCT)\n",
    "print(TrCD)\n",
    "print(TrDC)"
   ]
  },
  {
   "cell_type": "code",
   "execution_count": 16,
   "metadata": {},
   "outputs": [],
   "source": [
    "from sklearn.datasets import load_iris\n",
    "import numpy as np\n",
    "from numpy.linalg import eig\n",
    "\n",
    "#Standardize by remove average\n",
    "def pca(X, k):\n",
    "    X = X - X.mean(axis=0)\n",
    "    \n",
    "    #Calculate covariance matrix:\n",
    "    x_cov = np.cov(X.T, ddof=0)\n",
    "    \n",
    "    #Calculate eigenvalues and eigenvectors of covariance matrix\n",
    "    eigenvalues, eigenvetors = eig(x_cov)\n",
    "    \n",
    "    #top k large eigenvetors\n",
    "    klarge_index = eigenvalues.argsort()[-k:][::-1]\n",
    "    k_eigenvectors = eigenvetors[klarge_index]\n",
    "    \n",
    "    return np.dot(X, k_eigenvectors.T)\n",
    "\n",
    "iris = load_iris()\n",
    "X = iris.data\n",
    "k = 2 #选取贡献最大的前2个特征值\n",
    "\n",
    "x_pca = pca(X, k)"
   ]
  },
  {
   "cell_type": "code",
   "execution_count": 14,
   "metadata": {},
   "outputs": [
    {
     "data": {
      "image/png": "[encoded data removed]",
      "text/plain": [
       "<Figure size 432x288 with 1 Axes>"
      ]
     },
     "metadata": {
      "needs_background": "light"
     },
     "output_type": "display_data"
    }
   ],
   "source": [
    "import numpy as np\n",
    "import seaborn as sns\n",
    "import matplotlib.pyplot as plt\n",
    "from sklearn.datasets import load_iris\n",
    "from numpy.linalg import eig\n",
    "\n",
    "iris = load_iris()\n",
    "X = iris.data\n",
    "X = X - X.mean(axis=0)\n",
    "\n",
    "#计算协方差矩阵\n",
    "X_cov = np.cov(X.T, ddof=0)\n",
    "\n",
    "#计算协方差矩阵的特征值和特征向量\n",
    "eigenvalues, eigenvectors = eig(X_cov)\n",
    "\n",
    "tot = sum(eigenvalues)\n",
    "var_exp = [(i / tot) for i in sorted(eigenvalues, reverse=True)]\n",
    "cum_var_exp = np.cumsum(var_exp)\n",
    "plt.bar(range(1,5), var_exp, alpha=0.5, align='center', label='individual var')\n",
    "plt.step(range(1,5), cum_var_exp, where='mid', label='cumulative var')\n",
    "plt.ylabel('variance rtion')\n",
    "plt.xlabel('principal components')\n",
    "plt.legend(loc='best')\n",
    "plt.show()"
   ]
  },
  {
   "cell_type": "code",
   "execution_count": null,
   "metadata": {},
   "outputs": [],
   "source": []
  }
 ],
 "metadata": {
  "kernelspec": {
   "display_name": "Python 3",
   "language": "python",
   "name": "python3"
  },
  "language_info": {
   "codemirror_mode": {
    "name": "ipython",
    "version": 3
   },
   "file_extension": ".py",
   "mimetype": "text/x-python",
   "name": "python",
   "nbconvert_exporter": "python",
   "pygments_lexer": "ipython3",
   "version": "3.7.7"
  }
 },
 "nbformat": 4,
 "nbformat_minor": 4
}
